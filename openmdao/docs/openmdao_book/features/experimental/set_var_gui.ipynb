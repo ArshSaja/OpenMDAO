{
 "cells": [
  {
   "cell_type": "code",
   "execution_count": null,
   "id": "described-buyer",
   "metadata": {
    "tags": [
     "remove-input",
     "active-ipynb",
     "remove-output"
    ]
   },
   "outputs": [],
   "source": [
    "try:\n",
    "    from openmdao.utils.notebook_utils import notebook_mode\n",
    "except ImportError:\n",
    "    !python -m pip install openmdao[notebooks]"
   ]
  },
  {
   "cell_type": "markdown",
   "id": "sensitive-mining",
   "metadata": {},
   "source": [
    "# GUI for Setting Variables in Notebooks\n",
    "\n",
    "```{Note}\n",
    "This GUI makes use of the Python package `ipywidgets`. Installing `ipywidgets` also installs a Jupyter\n",
    "notebook extension. Therefore, you will have to restart your notebook server after installing `ipywidgets`.\n",
    "```\n",
    "\n",
    "This is an experimental interface to make it easy for users to set the values of variables in an OpenMDAO model\n",
    "when using a Jupyter Notebook.\n",
    "\n",
    "There are some limitations:\n",
    "\n",
    "* no support for arrays\n",
    "* for large models, creating the GUI can take a long time\n",
    "* not tested with Jupyter Lab\n",
    "\n",
    "There is a single function to create the GUI.\n",
    "\n",
    "```{eval-rst}\n",
    ".. autofunction:: openmdao.visualization.set_values_gui.set_values_gui\n",
    "    :noindex:\n",
    "```\n",
    "\n",
    "Here is an example of how to use it with a simple model.\n"
   ]
  },
  {
   "cell_type": "code",
   "execution_count": null,
   "id": "dedicated-vatican",
   "metadata": {},
   "outputs": [],
   "source": [
    "from openmdao.visualization.set_values_gui.set_values_gui import set_values_gui\n",
    "import openmdao.api as om\n",
    "\n",
    "class SpeedComp(om.ExplicitComponent):\n",
    "    \"\"\"Simple speed computation from distance and time with unit conversations.\"\"\"\n",
    "\n",
    "    def setup(self):\n",
    "        self.add_input('distance', val=1.0, units='km')\n",
    "        self.add_input('time', val=1.0, units='h')\n",
    "        self.add_output('speed', val=1.0, units='km/h')\n",
    "\n",
    "    def compute(self, inputs, outputs):\n",
    "        outputs['speed'] = inputs['distance'] / inputs['time']\n",
    "\n",
    "prob = om.Problem()\n",
    "prob.model.add_subsystem('c1', SpeedComp(), promotes=['*'])\n",
    "prob.model.add_subsystem('c2', om.ExecComp('f=speed',speed={'units': 'm/s'}), promotes=['*'])\n",
    "\n",
    "prob.model.set_input_defaults('distance', val=1., units='m')\n",
    "prob.model.set_input_defaults('time', val=1., units='s')\n",
    "\n",
    "prob.setup()\n",
    "prob.final_setup()\n"
   ]
  },
  {
   "cell_type": "code",
   "execution_count": null,
   "id": "realistic-terrorism",
   "metadata": {},
   "outputs": [],
   "source": [
    "ui = set_values_gui(prob, vars_to_set=[], initial_depth = 1, ivc_only= False, debug=False)"
   ]
  },
  {
   "cell_type": "markdown",
   "id": "approximate-immigration",
   "metadata": {},
   "source": [
    "To display it, just enter the GUI object as the last item in the cell."
   ]
  },
  {
   "cell_type": "code",
   "execution_count": null,
   "id": "acquired-state",
   "metadata": {
    "pycharm": {
     "name": "#%%\n"
    }
   },
   "outputs": [],
   "source": [
    "ui"
   ]
  },
  {
   "cell_type": "markdown",
   "source": [
    "The GUI should look like this initially.\n",
    "\n",
    "![gui_before_vars_displayed](images/gui_before_vars_displayed.png)\n",
    "\n",
    "The left part of the GUI displays the model hierarchy.\n",
    "\n",
    "You can use the + and - widgets to collapse and expand\n",
    "the model tree.\n",
    "\n",
    "There are 3 kinds of icons in this display. The envelope icon is for OpenMDAO groups. The plug icon\n",
    "represents OpenMDAO Components. Finally the eyeball icon represents variables. If a slash is through this icon, the\n",
    "variable does not have a widget to set its value in the middle section, Model Variables.\n",
    "Click on that icon to create a widget for setting its value.\n",
    "\n",
    "The variables are shown relative their promoted level in the model hierarchy.\n",
    "\n",
    "The middle part of the GUI shows the widgets for entering values of\n",
    "variables and their units. The values for the variables and units are\n",
    "set when the Enter key is struck while in the data entry widget\n",
    "or the focus is taken away from that data entry widget. The combination of the\n",
    "value and units is set simultaneously when either data entry widget is modified.\n",
    "\n",
    "The right part of the GUI has a single button, `Refresh`. The GUI is currently \"one-way\" in the sense that the GUI lets you\n",
    "set the model variables but if the model variables are set outside of the GUI, the GUI no longer is in sync with\n",
    "the model variables. Clicking on the Refresh button syncs the GUI display with all the model variables and units.\n",
    "\n",
    "As an example, after requesting that widgets be displayed to set the values of `speed`, `distance`, and `time`,\n",
    "the GUI should look like this.\n",
    "\n",
    "![diagram of a simple circuit with two resistors and one diode](images/gui_after_vars_displayed.png)\n",
    "\n",
    "The user can then set the values and units for those 3 variables."
   ],
   "metadata": {
    "collapsed": false
   }
  }
 ],
 "metadata": {
  "celltoolbar": "Tags",
  "kernelspec": {
   "display_name": "Python 3 (ipykernel)",
   "language": "python",
   "name": "python3"
  },
  "language_info": {
   "codemirror_mode": {
    "name": "ipython",
    "version": 3
   },
   "file_extension": ".py",
   "mimetype": "text/x-python",
   "name": "python",
   "nbconvert_exporter": "python",
   "pygments_lexer": "ipython3",
   "version": "3.8.12"
  },
  "orphan": true
 },
 "nbformat": 4,
 "nbformat_minor": 5
}